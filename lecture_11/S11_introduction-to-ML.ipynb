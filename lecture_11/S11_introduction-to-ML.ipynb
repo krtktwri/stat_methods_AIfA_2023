{
 "cells": [
  {
   "cell_type": "markdown",
   "metadata": {},
   "source": [
    "https://github.com/dgerosa/astrostatistics_bicocca_2022/blob/main/lectures/L22_deeplearning.ipynb"
   ]
  },
  {
   "cell_type": "markdown",
   "metadata": {},
   "source": [
    "# P11: Introduction to ML"
   ]
  },
  {
   "cell_type": "markdown",
   "metadata": {},
   "source": [
    "In this problem sheet, we will revisit photometric redshift estimation and we will train a simple NN to estimate galaxy redshift from $\\mathrm{mag}_u, \\mathrm{mag}_g, \\mathrm{mag}_r, \\mathrm{mag}_i, \\mathrm{mag}_z$ photometry. We will use the spectroscopic SDSS galaxy sample as an example.\n",
    "\n",
    "For this, we will need `astroML` and `pytorch` (if you are more familar with another Deep Learning package you can of course use that instead)."
   ]
  },
  {
   "cell_type": "markdown",
   "metadata": {},
   "source": [
    "## Problem 1: Get SDSS data using `astroML`"
   ]
  },
  {
   "cell_type": "markdown",
   "metadata": {},
   "source": [
    "The python package `astroML` contains a number of useful data sets. In particular, it contains a sample of SDSS galaxies for which both photometric and spectroscopic measurements have been obtained. For all galaxies in this sample, we have access to photometrically-determined magnitudes $\\mathrm{mag}_u, \\mathrm{mag}_g, \\mathrm{mag}_r, \\mathrm{mag}_i, \\mathrm{mag}_z$ and spectroscopically-determined redshift $z$. We will use this sample to train a neural network to predict redshift $z$ from 5 input magnitudes $\\mathrm{mag}_u, \\mathrm{mag}_g, \\mathrm{mag}_r, \\mathrm{mag}_i, \\mathrm{mag}_z$, treating the spectroscopically determined redshift as ground truth.\n",
    "\n",
    "(i) Fetch the matched SDSS sample from `astroML.datasets` making use of the routine `fetch_sdss_specgals()`.\n",
    "\n",
    "(ii) Inspect the data set, retrieve the magnitudes $\\mathrm{mag}_u, \\mathrm{mag}_g, \\mathrm{mag}_r, \\mathrm{mag}_i, \\mathrm{mag}_z$ and redshift $z$.\n",
    "\n",
    "(iii) Plot the redshift distribution of the SDSS galaxies.\n",
    "\n",
    "(iv) Plot the color-magnitude diagram $\\mathrm{mag}_r$ vs. $\\mathrm{mag}_u-\\mathrm{mag}_r$ of the galaxies. What do you notice?"
   ]
  },
  {
   "cell_type": "markdown",
   "metadata": {},
   "source": [
    "## Solution 1"
   ]
  },
  {
   "cell_type": "markdown",
   "metadata": {},
   "source": [
    "(i)"
   ]
  },
  {
   "cell_type": "code",
   "execution_count": 1,
   "metadata": {},
   "outputs": [
    {
     "name": "stderr",
     "output_type": "stream",
     "text": [
      "/homes/kneralwar/anaconda3/lib/python3.7/site-packages/astroML/linear_model/linear_regression_errors.py:10: UserWarning: LinearRegressionwithErrors requires PyMC3 to be installed\n",
      "  warnings.warn('LinearRegressionwithErrors requires PyMC3 to be installed')\n"
     ]
    }
   ],
   "source": [
    "from astroML import datasets\n",
    "import numpy as np\n",
    "import torch\n",
    "import matplotlib.pyplot as plt\n",
    "\n",
    "%matplotlib inline\n",
    "\n",
    "import torch\n",
    "import torch.nn as nn\n",
    "import torch.nn.functional as F\n",
    "import torch.utils.data as torchdata\n",
    "\n",
    "from astroML.datasets import fetch_sdss_specgals\n",
    "from astroML.utils.decorators import pickle_results\n",
    "\n",
    "from astroML.plotting import setup_text_plots\n",
    "setup_text_plots(fontsize=8, usetex=False)"
   ]
  },
  {
   "cell_type": "code",
   "execution_count": 2,
   "metadata": {},
   "outputs": [],
   "source": [
    "data = datasets.fetch_sdss_specgals()"
   ]
  },
  {
   "cell_type": "markdown",
   "metadata": {},
   "source": [
    "(ii)"
   ]
  },
  {
   "cell_type": "code",
   "execution_count": 3,
   "metadata": {},
   "outputs": [],
   "source": [
    "mag_u = data['modelMag_u']\n",
    "mag_g = data['modelMag_g']\n",
    "mag_r = data['modelMag_r']\n",
    "mag_i = data['modelMag_i']\n",
    "mag_z = data['modelMag_z']\n",
    "\n",
    "z = data['z']\n"
   ]
  },
  {
   "cell_type": "markdown",
   "metadata": {},
   "source": [
    "(iii)"
   ]
  },
  {
   "cell_type": "code",
   "execution_count": 4,
   "metadata": {},
   "outputs": [
    {
     "data": {
      "image/png": "[encoded data removed]",
      "text/plain": [
       "<Figure size 432x288 with 1 Axes>"
      ]
     },
     "metadata": {
      "needs_background": "light"
     },
     "output_type": "display_data"
    }
   ],
   "source": [
    "plt.figure()\n",
    "plt.hist(z)\n",
    "plt.xlabel('Redshift')\n",
    "plt.show()"
   ]
  },
  {
   "cell_type": "markdown",
   "metadata": {},
   "source": [
    "(iv)"
   ]
  },
  {
   "cell_type": "code",
   "execution_count": 22,
   "metadata": {},
   "outputs": [
    {
     "data": {
      "image/png": "[encoded data removed]",
      "text/plain": [
       "<Figure size 432x288 with 1 Axes>"
      ]
     },
     "metadata": {
      "needs_background": "light"
     },
     "output_type": "display_data"
    }
   ],
   "source": [
    "plt.figure()\n",
    "plt.hist2d(mag_u - mag_r, mag_r, bins = 100)\n",
    "plt.gca().invert_xaxis()\n",
    "plt.gca().invert_yaxis()\n",
    "plt.xlabel('Color')\n",
    "plt.ylabel('Magnitude')\n",
    "plt.show()"
   ]
  },
  {
   "cell_type": "markdown",
   "metadata": {},
   "source": [
    "The figure shows the bimodal distribution of galaxies into red and blue ones."
   ]
  },
  {
   "cell_type": "markdown",
   "metadata": {
    "tags": []
   },
   "source": [
    "## Problem 2: Build NN with `pytorch`"
   ]
  },
  {
   "cell_type": "markdown",
   "metadata": {},
   "source": [
    "Use `pytorch` to build a neural network consisting of an input layer (the data itself), a hidden linear layer, and a linear output layer. As activation function, you can use ReLU. Following what we discussed in class, it is simplest if you do not apply the activation function to the output layer.\n",
    "\n",
    "Below you can find a code snippet that defines your NN. The initialization step defines the pieces needed for your network and the `forward` function describes how to combine them in the forward pass through the NN."
   ]
  },
  {
   "cell_type": "code",
   "execution_count": 7,
   "metadata": {},
   "outputs": [
    {
     "name": "stdout",
     "output_type": "stream",
     "text": [
      "Using cpu device\n"
     ]
    }
   ],
   "source": [
    "device = 'cpu'\n",
    "print(f\"Using {device} device\")"
   ]
  },
  {
   "cell_type": "code",
   "execution_count": 8,
   "metadata": {},
   "outputs": [],
   "source": [
    "class model_1hl(nn.Module):\n",
    "    def __init__(self, nh1):\n",
    "        '''\n",
    "        Class initialization.\n",
    "        Args:\n",
    "        nh1 (:obj:`integer`): number of neurons in hidden layer\n",
    "        '''\n",
    "        \n",
    "        super().__init__() # Call base class' init function\n",
    "        self.fc_h = nn.Linear(5,nh1) # Linear hidden layer (use nn.Linear)\n",
    "        self.fc_o = nn.Linear(nh1, 1) # Linear output layer\n",
    "\n",
    "    def forward(self, x):\n",
    "        h = F.relu(self.fc_h(x)) # Apply ReLU to output from fc_h (use nn.ReLU)\n",
    "        z = self.fc_o(h)# Pass h though output layer\n",
    "        return z"
   ]
  },
  {
   "cell_type": "code",
   "execution_count": 9,
   "metadata": {},
   "outputs": [
    {
     "name": "stdout",
     "output_type": "stream",
     "text": [
      "model_1hl(\n",
      "  (fc_h): Linear(in_features=5, out_features=4, bias=True)\n",
      "  (fc_o): Linear(in_features=4, out_features=1, bias=True)\n",
      ")\n"
     ]
    }
   ],
   "source": [
    "model = model_1hl(4).to(device)\n",
    "print(model)"
   ]
  },
  {
   "cell_type": "markdown",
   "metadata": {},
   "source": [
    "## Problem 3: Data preparation"
   ]
  },
  {
   "cell_type": "markdown",
   "metadata": {},
   "source": [
    "In this problem, we will prepare our data for NN training.\n",
    "\n",
    "(i) Split the data from problem 1 into three subsamples: training set, validation set, and test set. As a first approach you can use $70\\%$ of the data for training, and $15\\%$ each for validation and testing.\n",
    "\n",
    "(ii) NN training is often more efficient when using normalized data, as this improves the performance of gradient descent algorithms. Using the data from (i), normalize it to zero mean and variance 1. **Hint:** Discuss when normalization should be applied and how to normalize the validation and test sets.\n",
    "\n",
    "**Hint:** To interface with `pytorch`, you can either use the functionality provided by `TensorDataset` and `tensor`, or you can also define your own dataset class. Once you have created your dataset, you can create a data loader using `DataLoader`. "
   ]
  },
  {
   "cell_type": "code",
   "execution_count": 10,
   "metadata": {},
   "outputs": [],
   "source": [
    "datareq = np.zeros((len(data), 6), dtype=np.float32)\n",
    "\n",
    "for i, band in enumerate(['u', 'g', 'r', 'i', 'z']):\n",
    "    band = 'modelMag_' + band\n",
    "    datareq[:, i] = data[band]\n",
    "    \n",
    "datareq[:, 5] = data['z']    \n",
    "\n",
    "traindata_array = datareq[:int(0.7*len(datareq))]\n",
    "valdata_array = datareq[int(0.7*len(datareq)):int(0.85*len(datareq))]\n",
    "testdata_array = datareq[int(0.85*len(datareq)):]"
   ]
  },
  {
   "cell_type": "markdown",
   "metadata": {},
   "source": [
    "We want to use only the information from the traindataset for the training. Thus we use the normalisation factors (mean and std) from the training data to normalise all the datasets. "
   ]
  },
  {
   "cell_type": "code",
   "execution_count": 11,
   "metadata": {},
   "outputs": [],
   "source": [
    "traindata_norm = (traindata_array[:,0:5] - np.mean(traindata_array[:,0:5] , axis = 0)) / np.std(traindata_array[:,0:5] , axis = 0)\n",
    "valdata_norm = (valdata_array[:,0:5] - np.mean(traindata_array[:,0:5] , axis = 0)) / np.std(traindata_array[:,0:5] , axis = 0)\n",
    "testdata_norm = (testdata_array[:,0:5] - np.mean(traindata_array[:,0:5] , axis = 0)) / np.std(traindata_array[:,0:5] , axis = 0)"
   ]
  },
  {
   "cell_type": "code",
   "execution_count": 12,
   "metadata": {},
   "outputs": [],
   "source": [
    "train_z = traindata_array[:,5]\n",
    "train_z = (train_z[:, np.newaxis])\n",
    "traindata =  (np.append(traindata_norm, train_z, axis = 1))\n",
    "\n",
    "val_z = valdata_array[:,5]\n",
    "val_z = (val_z[:, np.newaxis])\n",
    "valdata =  (np.append(valdata_norm, val_z, axis = 1))\n",
    "\n",
    "test_z = testdata_array[:,5]\n",
    "test_z = (test_z[:, np.newaxis])\n",
    "testdata = (np.append(testdata_norm, test_z, axis = 1))"
   ]
  },
  {
   "cell_type": "code",
   "execution_count": 13,
   "metadata": {},
   "outputs": [],
   "source": [
    "traindataset = torchdata.TensorDataset(torch.tensor(traindata[:, 0:5]),\n",
    "                                  torch.tensor(traindata[:, 5]).view(-1, 1))\n",
    "\n",
    "valdataset = torchdata.TensorDataset(torch.tensor(valdata[:, 0:5]),\n",
    "                                  torch.tensor(valdata[:, 5]).view(-1, 1))\n",
    "\n",
    "testdataset = torchdata.TensorDataset(torch.tensor(testdata[:, 0:5]),\n",
    "                                  torch.tensor(testdata[:, 5]).view(-1, 1))\n",
    "\n",
    "traindataloader = torchdata.DataLoader(traindataset, \n",
    "                                       batch_size=128, \n",
    "                                       shuffle=True)\n"
   ]
  },
  {
   "cell_type": "markdown",
   "metadata": {},
   "source": [
    "## Problem 4: NN training"
   ]
  },
  {
   "cell_type": "markdown",
   "metadata": {},
   "source": [
    "In this problem, we will write a routine to train our NN with `pytorch`. Note the following:\n",
    "\n",
    "- As loss function, you can use the mean squared error.\n",
    "- You can use the stochastic gradient descent optimizer.\n",
    "- Log the training, validation and test loss for each epoch as numpy arrays.\n",
    "- Use the validation loss to pick the optimal model for a given architecture and choice of hyperparameters, i.e. pick the model with the lowest validation loss.\n",
    "\n",
    "(i) Once you have set up the training routine, train your model for 100 epochs and save the best-performing model.\n",
    "\n",
    "(ii) Look at the loss curves as a function of training epoch and discuss your results. Have you trained the model long enough?\n",
    "\n",
    "(iii) Experiment with changing hyperparameters, especially the learning rate."
   ]
  },
  {
   "cell_type": "code",
   "execution_count": 14,
   "metadata": {},
   "outputs": [],
   "source": [
    "def train_NN(lr = 0.001, epochs = 10):\n",
    "    # 4 neurons\n",
    "    model = model_1hl(4)\n",
    "    # MSE loss\n",
    "    criterion = torch.nn.MSELoss(reduction='sum') \n",
    "    # stochastic gradient descent\n",
    "    optimizer = torch.optim.SGD(model.parameters(), lr=lr) \n",
    "    # Adaptive learning rate...\n",
    "    scheduler = torch.optim.lr_scheduler.ReduceLROnPlateau(optimizer, \n",
    "                                                           verbose=True, \n",
    "                                                           patience=5, \n",
    "                                                           threshold=1e-3)\n",
    "\n",
    "    min_valid_loss = float('inf')\n",
    "    badepochs = 0\n",
    "    train_loss_array = []\n",
    "    valid_loss_array = []\n",
    "    for t in range(epochs):\n",
    "        train_loss = 0\n",
    "        for i, databatch in enumerate(traindataloader, 0):\n",
    "            photometry, redshifts = databatch\n",
    "            optimizer.zero_grad()\n",
    "            z_pred = model(photometry) #training\n",
    "            loss = criterion(z_pred, redshifts) #loss calculation\n",
    "            loss.backward()\n",
    "            optimizer.step()\n",
    "            train_loss += loss.item()\n",
    "#testing\n",
    "            \n",
    "        with torch.no_grad():\n",
    "            photometry = valdataset[:][0]\n",
    "            redshifts = valdataset[:][1]\n",
    "            z_pred = model(photometry)\n",
    "            valid_loss = criterion(z_pred, redshifts)\n",
    "            train_loss_array.append(train_loss / len(traindataset))\n",
    "            valid_loss_array.append(valid_loss / len(valdataset))\n",
    "            if t % 10 == 0:\n",
    "                print('Epoch %3i: train loss %0.3e validation loss %0.3e' % (t, \\\n",
    "                        train_loss / len(traindataset), valid_loss / len(valdataset)))\n",
    "            # stop training if validation loss has not fallen in 10 epochs\n",
    "            if valid_loss > min_valid_loss*(1-1e-3):\n",
    "                badepochs += 1\n",
    "            else:\n",
    "                min_valid_loss = valid_loss\n",
    "                badepochs = 0\n",
    "            if badepochs == 10:\n",
    "                print('Finished training')\n",
    "                break\n",
    "        scheduler.step(valid_loss)\n",
    "    return model, train_loss_array, valid_loss_array"
   ]
  },
  {
   "cell_type": "code",
   "execution_count": 15,
   "metadata": {},
   "outputs": [
    {
     "name": "stdout",
     "output_type": "stream",
     "text": [
      "Epoch   0: train loss 1.634e-03 validation loss 1.327e-03\n",
      "Epoch  10: train loss 9.082e-04 validation loss 8.624e-04\n",
      "Epoch  20: train loss 8.956e-04 validation loss 8.717e-04\n",
      "Epoch  30: train loss 8.854e-04 validation loss 8.450e-04\n",
      "Epoch  40: train loss 6.085e-04 validation loss 5.945e-04\n",
      "Epoch  50: train loss 5.897e-04 validation loss 5.800e-04\n",
      "Epoch    54: reducing learning rate of group 0 to 1.0000e-04.\n",
      "Finished training\n"
     ]
    }
   ],
   "source": [
    "model_trained, train_loss, valid_loss = train_NN(epochs = 100)"
   ]
  },
  {
   "cell_type": "code",
   "execution_count": 16,
   "metadata": {},
   "outputs": [
    {
     "data": {
      "image/png": "[encoded data removed]",
      "text/plain": [
       "<Figure size 432x288 with 1 Axes>"
      ]
     },
     "metadata": {
      "needs_background": "light"
     },
     "output_type": "display_data"
    }
   ],
   "source": [
    "plt.figure()\n",
    "plt.plot(train_loss, label = 'Train loss')\n",
    "plt.plot(valid_loss, label = 'Val loss')\n",
    "plt.legend()\n",
    "plt.xlabel('Epoch')\n",
    "plt.ylabel('loss')\n",
    "plt.show()"
   ]
  },
  {
   "cell_type": "markdown",
   "metadata": {},
   "source": [
    "## Problem 5: Evaluate the performance of your model "
   ]
  },
  {
   "cell_type": "markdown",
   "metadata": {},
   "source": [
    "Use the test set to evaluate the performance of your NN."
   ]
  },
  {
   "cell_type": "code",
   "execution_count": 17,
   "metadata": {},
   "outputs": [
    {
     "name": "stdout",
     "output_type": "stream",
     "text": [
      "Test loss 5.705e-04 \n"
     ]
    }
   ],
   "source": [
    "with torch.no_grad():\n",
    "    photometry = testdataset[:][0]\n",
    "    redshifts = testdataset[:][1]\n",
    "    z_pred = model_trained(photometry)\n",
    "    criterion = torch.nn.MSELoss(reduction='sum') \n",
    "    test_loss = criterion(z_pred, redshifts)\n",
    "    print('Test loss %0.3e ' % (test_loss / len(testdataset)))\n",
    "    "
   ]
  },
  {
   "cell_type": "code",
   "execution_count": 18,
   "metadata": {},
   "outputs": [
    {
     "data": {
      "image/png": "[encoded data removed]",
      "text/plain": [
       "<Figure size 432x288 with 1 Axes>"
      ]
     },
     "metadata": {
      "needs_background": "light"
     },
     "output_type": "display_data"
    }
   ],
   "source": [
    "plt.figure()\n",
    "plt.scatter(redshifts, z_pred, marker ='.')\n",
    "plt.plot(redshifts, redshifts, label = 'True Redshift line', c = 'k')\n",
    "plt.xlabel('True Redshift')\n",
    "plt.ylabel('Predicted Redshift')\n",
    "plt.legend()\n",
    "plt.show()"
   ]
  },
  {
   "cell_type": "code",
   "execution_count": null,
   "metadata": {},
   "outputs": [],
   "source": []
  }
 ],
 "metadata": {
  "kernelspec": {
   "display_name": "Python 3",
   "language": "python",
   "name": "python3"
  },
  "language_info": {
   "codemirror_mode": {
    "name": "ipython",
    "version": 3
   },
   "file_extension": ".py",
   "mimetype": "text/x-python",
   "name": "python",
   "nbconvert_exporter": "python",
   "pygments_lexer": "ipython3",
   "version": "3.7.10"
  }
 },
 "nbformat": 4,
 "nbformat_minor": 4
}
