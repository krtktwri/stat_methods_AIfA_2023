{
 "cells": [
  {
   "cell_type": "markdown",
   "metadata": {},
   "source": [
    "# Sheet 10\n",
    "\n",
    "Lynn Pauline Hansen, Jonathan Oel, Jannick Schulze, Elena Silvestre Roselló"
   ]
  },
  {
   "cell_type": "markdown",
   "metadata": {},
   "source": [
    "## Problem 1"
   ]
  },
  {
   "cell_type": "code",
   "execution_count": 1,
   "metadata": {
    "tags": []
   },
   "outputs": [],
   "source": [
    "import numpy as np\n",
    "import matplotlib.pyplot as plt\n",
    "%matplotlib inline"
   ]
  },
  {
   "cell_type": "code",
   "execution_count": 2,
   "metadata": {
    "tags": []
   },
   "outputs": [],
   "source": [
    "# Finely gridded true field\n",
    "rho_m = np.loadtxt('data/density.txt')\n",
    "delta_m = (rho_m - np.mean(rho_m))/np.mean(rho_m)\n",
    "\n",
    "x = np.loadtxt('data/densityx.txt')\n",
    "y = np.loadtxt('data/densityy.txt')"
   ]
  },
  {
   "cell_type": "code",
   "execution_count": 3,
   "metadata": {
    "tags": []
   },
   "outputs": [
    {
     "data": {
      "image/png": "[encoded data removed]",
      "text/plain": [
       "<Figure size 432x288 with 2 Axes>"
      ]
     },
     "metadata": {
      "needs_background": "light"
     },
     "output_type": "display_data"
    }
   ],
   "source": [
    "plt.contourf(x, y, delta_m)\n",
    "plt.xlabel(r'$x$', fontsize=14)\n",
    "plt.ylabel(r'$y$', fontsize=14)\n",
    "cbar = plt.colorbar()\n",
    "cbar.set_label(r'$\\delta_m$', fontsize=14)"
   ]
  },
  {
   "cell_type": "code",
   "execution_count": 4,
   "metadata": {
    "tags": []
   },
   "outputs": [
    {
     "name": "stdout",
     "output_type": "stream",
     "text": [
      "(16641, 2)\n",
      "29\n"
     ]
    },
    {
     "data": {
      "text/plain": [
       "Text(0, 0.5, 'Y[pix]')"
      ]
     },
     "execution_count": 4,
     "metadata": {},
     "output_type": "execute_result"
    },
    {
     "data": {
      "image/png": "[encoded data removed]",
      "text/plain": [
       "<Figure size 432x288 with 2 Axes>"
      ]
     },
     "metadata": {
      "needs_background": "light"
     },
     "output_type": "display_data"
    }
   ],
   "source": [
    "galaxies = np.loadtxt('data/catalog.txt')\n",
    "\n",
    "print(np.shape(galaxies))\n",
    "\n",
    "Ngal = np.shape(galaxies)[0]\n",
    "\n",
    "#We want approximately 20 galaxies per pixel\n",
    "Nbins = int(np.round(np.sqrt(Ngal/20)))\n",
    "\n",
    "print(Nbins)\n",
    "\n",
    "\n",
    "#bin_edges = np.array([np.linspace(-20.,20.,Nbins)\n",
    "\n",
    "gal_grid, xedges, yedges = np.histogram2d( galaxies[:,0],galaxies[:,1], Nbins)\n",
    "\n",
    "delta_g = (gal_grid - np.mean(gal_grid))/np.mean(gal_grid)\n",
    "\n",
    "\n",
    "plt.imshow(delta_g.T, extent = [xedges[0], xedges[-1], yedges[-1], yedges[0]])\n",
    "cbar2 = plt.colorbar()\n",
    "cbar2.set_label(r'$\\delta_g$', fontsize=14)\n",
    "plt.gca().invert_yaxis()\n",
    "plt.xlabel('X[pix]')\n",
    "plt.ylabel('Y[pix]')"
   ]
  },
  {
   "cell_type": "markdown",
   "metadata": {},
   "source": [
    "# Problem 2\n",
    "\n",
    "## (i)"
   ]
  },
  {
   "cell_type": "code",
   "execution_count": 5,
   "metadata": {
    "tags": []
   },
   "outputs": [
    {
     "name": "stdout",
     "output_type": "stream",
     "text": [
      "Variance:\n",
      "0.3108880433170473\n",
      "Standard deviation:\n",
      "0.5575733524093913\n",
      "Kurtosis (gamma2):\n",
      "0.18139532808706482\n",
      "Center of mass [x,y]:\n",
      "0.2218764394667512 -1.38498282155547\n"
     ]
    }
   ],
   "source": [
    "def Statistics_field (delta_g, gal_grid, Nbins, xedges, yedges, jack_grid = False):\n",
    "    \"\"\" Computes the statistics variance, standard deviation, kurtosis and center of mass coordinates for a field of galaxies\n",
    "    Input:\n",
    "        delta_g (np.array(Nbin, Nbin), float): galaxy density contrast\n",
    "        gal_grid (np.array(Nbin, Nbin), int): number of galaxies per bin\n",
    "        xedges (np.array(Nbin+1), float): positions of the edges of the pixels in x coordinate\n",
    "        yedges (np.array(Nbin+1), float): positions of the edges of the pixels in y coordinate\n",
    "        jack_grid (bool): True if the statistics are computed for jackknifing on grid level (see problem 3.1)\n",
    "    Returns:\n",
    "        dg_var (float): variance of the density contrast\n",
    "        dg_std (float): std of the density contrast\n",
    "        gamma2 (float): kurtosis of the density contrast\n",
    "        dg_com_x, dg_com_y (float, float): x and y coordinates of the center of mass\n",
    "    \"\"\"\n",
    "    #Variance of the overdensity field\n",
    "    dg_mean = np.mean(delta_g)\n",
    "    Npix = Nbins**2\n",
    "    dg_var = 1/(Npix-1)*np.sum((delta_g-dg_mean)**2)\n",
    "\n",
    "    #Standard deviation\n",
    "    dg_std = np.sqrt(dg_var)\n",
    "\n",
    "    #Kurtosis\n",
    "    #4th central moment\n",
    "    mu_4 = 1/(Npix-1)*np.sum((delta_g-dg_mean)**4)\n",
    "    #This is a biased estimate, but given in the question\n",
    "    gamma2 = mu_4/dg_var**2 -3\n",
    "    \n",
    "    #Center of mass\n",
    "    if jack_grid:\n",
    "        #Cannot compute it without biasing the result towards 0\n",
    "        dg_com_x = []\n",
    "        dg_com_y = []\n",
    "    else:\n",
    "        #Positions on grid \n",
    "        positions_x, positions_y = np.meshgrid((xedges[1:]+xedges[:-1])/2,(yedges[1:]+yedges[:-1])/2)\n",
    "        dg_com_x = np.sum((gal_grid*positions_x))/np.sum(gal_grid)\n",
    "        dg_com_y = np.sum((gal_grid*positions_y))/np.sum(gal_grid)\n",
    "\n",
    "    return dg_var, dg_std, gamma2,dg_com_x, dg_com_y\n",
    "    \n",
    "dg_var, dg_std, gamma2,dg_com_x, dg_com_y = Statistics_field(delta_g, gal_grid, Nbins, xedges, yedges)\n",
    "\n",
    "#To check biases later\n",
    "parameters_wholesample = np.array([dg_var, dg_std, gamma2,dg_com_x, dg_com_y])\n",
    "\n",
    "print('Variance:')\n",
    "print(dg_var)\n",
    "\n",
    "print('Standard deviation:')\n",
    "print(dg_std)\n",
    "\n",
    "print('Kurtosis (gamma2):')\n",
    "print(gamma2)\n",
    "\n",
    "print('Center of mass [x,y]:')\n",
    "print(dg_com_x, dg_com_y)"
   ]
  },
  {
   "cell_type": "markdown",
   "metadata": {},
   "source": [
    "## (ii)"
   ]
  },
  {
   "cell_type": "code",
   "execution_count": 6,
   "metadata": {
    "tags": []
   },
   "outputs": [],
   "source": [
    "#Repeat for a few number of bins\n",
    "\n",
    "var = []\n",
    "kurtosis = []\n",
    "std = []\n",
    "x_cm = []\n",
    "y_cm = []\n",
    "\n",
    "for Nbin in range(5, 1000, 10): #These are pixels on each direction\n",
    "    \n",
    "    gal_gridn, xedgesn, yedgesn = np.histogram2d( galaxies[:,0],galaxies[:,1], Nbin)\n",
    "    delta_gn = (gal_gridn - np.mean(gal_gridn))/np.mean(gal_gridn)\n",
    "    varn, stdn, kurtn ,x_cmn, y_cmn = Statistics_field (delta_gn, gal_gridn, Nbin, xedgesn, yedgesn)\n",
    "\n",
    "    var.append(varn)\n",
    "    kurtosis.append(kurtn)\n",
    "    std.append(stdn)\n",
    "    x_cm.append(x_cmn)\n",
    "    y_cm.append(y_cmn)\n"
   ]
  },
  {
   "cell_type": "code",
   "execution_count": 7,
   "metadata": {},
   "outputs": [
    {
     "data": {
      "image/png": "[encoded data removed]",
      "text/plain": [
       "<Figure size 432x288 with 1 Axes>"
      ]
     },
     "metadata": {
      "needs_background": "light"
     },
     "output_type": "display_data"
    },
    {
     "data": {
      "text/plain": [
       "<matplotlib.legend.Legend at 0x7f43e1657ed0>"
      ]
     },
     "execution_count": 7,
     "metadata": {},
     "output_type": "execute_result"
    },
    {
     "data": {
      "image/png": "[encoded data removed]",
      "text/plain": [
       "<Figure size 432x288 with 1 Axes>"
      ]
     },
     "metadata": {
      "needs_background": "light"
     },
     "output_type": "display_data"
    }
   ],
   "source": [
    "#Plot 1D\n",
    "Npix = np.arange(5, 1000, 10)\n",
    "plt.scatter(Npix, var, label='variance', s=7)\n",
    "plt.scatter(Npix, kurtosis, label='kurtosis', s=7)\n",
    "plt.xlabel('Npix (1D)')\n",
    "plt.ylabel('Statistic')\n",
    "plt.show()\n",
    "\n",
    "#Plot 2D\n",
    "plt.clf()\n",
    "plt.scatter(Npix**2, var, label='variance', s=7)\n",
    "plt.scatter(Npix**2, kurtosis, label='kurtosis', s=7)\n",
    "plt.xlabel('Npix (2D)')\n",
    "plt.ylabel('Statistic')\n",
    "\n",
    "#Fit a power law to the number of pixels\n",
    "def fitting_power(Npix, A, n, C):\n",
    "    \"\"\"Fitting power for variance of kurtosis.\n",
    "    Input:\n",
    "        Npix (int): TOTAL number of pixels \n",
    "        A (float): amplitude\n",
    "        n(float): index\n",
    "        C(index): additive constant\n",
    "    Return:\n",
    "        power (float)\n",
    "    \"\"\"\n",
    "    return A*Npix**n + C\n",
    "\n",
    "import scipy.optimize as so\n",
    "for statistic in [var, kurtosis]:\n",
    "    popt, pcov = so.curve_fit(fitting_power, Npix**2, statistic)\n",
    "    #Plot the fit\n",
    "    plt.plot(Npix**2, statistic, label= f'n = {popt[1]:.3f} \\pm {np.sqrt(pcov[1,1]):.3f}')\n",
    "    \n",
    "plt.legend()"
   ]
  },
  {
   "cell_type": "markdown",
   "metadata": {},
   "source": [
    "If there are more pixels there is on average less galaxies per pixel, which increases the uncertainty (makes the field less uniform). The distribution of galaxies in a lot of pixels results in shot noise, where the uncertainty is proportional to $\\sqrt{N}$.\n",
    "\n",
    "If we look at the variance we expect it to grow as $s^2 \\propto \\sqrt{N}^2 = N$. This can be seen in the fit $s^2 = A N_{pix}^n +C$, where we obtain $n= 1.001 \\pm 0.001$.\n",
    "\n",
    "If we look at the kurtosis, $ \\gamma_2 = \\beta_2 -3 = \\mu_4 /\\sigma^4 -3$ we find as well $n= 0.987 \\pm 0.004$, where the discrepancy with 1 seems to come from a higher variability at low pixels. This hints that $\\mu_4\\propto N^2$. The fast growth of $\\gamma_2$ (which is around 0 for a Gaussian distribution) is expected from the low densities, since the central limit theorem states that a Gaussian distribution is a good distribution only for densities of the order of 10."
   ]
  },
  {
   "cell_type": "code",
   "execution_count": 8,
   "metadata": {
    "tags": []
   },
   "outputs": [
    {
     "data": {
      "text/plain": [
       "<matplotlib.legend.Legend at 0x7f43e12f6750>"
      ]
     },
     "execution_count": 8,
     "metadata": {},
     "output_type": "execute_result"
    },
    {
     "data": {
      "image/png": "[encoded data removed]",
      "text/plain": [
       "<Figure size 432x288 with 1 Axes>"
      ]
     },
     "metadata": {
      "needs_background": "light"
     },
     "output_type": "display_data"
    }
   ],
   "source": [
    "#Study on the center of mass\n",
    "\n",
    "plt.plot(Npix**2, x_cm, label='x')\n",
    "plt.plot(Npix**2, np.array(y_cm) -1, label='y -1')\n",
    "plt.xlabel('Npix (2D)')\n",
    "plt.ylabel('(cm) [pix]')\n",
    "plt.xscale('log')\n",
    "plt.legend()"
   ]
  },
  {
   "cell_type": "markdown",
   "metadata": {},
   "source": [
    "If we look at the center of mass we find that it oscillates a lot when there are a few pixels but tends to a value when the number of pixels increases. \n",
    "\n",
    "For low number of pixels the grid of positions plays a very important role. The moment that the number of pixels is of the same order as the number of galaxies the pixellized positions are almost the same as the discrete positions, so the center of mass is around its true value. In order to solve this problem for low number of pixels one could use for example a could in cell method in the galaxy distribution.\n",
    "\n"
   ]
  },
  {
   "cell_type": "markdown",
   "metadata": {},
   "source": [
    "# Problem 3: error estimation\n",
    "\n",
    "## (i) and (ii)\n",
    "\n",
    "Start first with Jackknife, both in galaxy level and pixel level"
   ]
  },
  {
   "cell_type": "code",
   "execution_count": 9,
   "metadata": {
    "tags": []
   },
   "outputs": [],
   "source": [
    "def JK_error (gal, param_wholesample, grid_level = False):\n",
    "    \"\"\" Computes an estimate of the uncertainty with the jackknifing method for the parameters variance, kurtosis, std, x_cm and y_cm.\n",
    "    Input:\n",
    "        gal (np.array(2,Ngal), float): positions of the galaxies\n",
    "        grid_level (bool): True is the jackknifing is done on a grid level\n",
    "    Returns:\n",
    "        mean_param (np.array(Nparam), float): average value of the parameters over the different subsamples. The center of mass not computed if grid_level chosen\n",
    "        e_param: uncertainty of the parameters\n",
    "    \"\"\"\n",
    "\n",
    "    Ngal = np.shape(gal)[0]\n",
    "    Nbin = 29 #to ensure around 20 galaxies /pixel\n",
    "    \n",
    "    if grid_level:\n",
    "        Nsamples = Nbin**2 #Take out one pixel at a time\n",
    "    else:\n",
    "        Nsamples = Ngal #Take out one galaxy at a time\n",
    "    \n",
    "    #Parameters we are interested in\n",
    "    var = np.zeros(Nsamples)\n",
    "    kurtosis = np.zeros(Nsamples)\n",
    "    std = np.zeros(Nsamples)\n",
    "    x_cm = np.zeros(Nsamples)\n",
    "    y_cm = np.zeros(Nsamples)\n",
    "\n",
    "   \n",
    "    if grid_level:\n",
    "        gal_grid, xedges, yedges = np.histogram2d( gal[:,0],gal[:,1], Nbin)\n",
    "        delta_g = (gal_grid - np.mean(gal_grid))/np.mean(gal_grid)\n",
    "        #Flatten the array, doesn't influence var, std or kurtosis\n",
    "        flatten_delta = delta_g.flatten()\n",
    "        print('Center of mass cannot be computed on a grid')\n",
    "        for i in range(Nbin*Nbin):\n",
    "            jgrid = np.delete(flatten_delta, i)\n",
    "            var[i], std[i], kurtosis[i] ,_, _ = Statistics_field (jgrid, gal_grid, Nbin, xedges, yedges, True) #The true stands for Jacknifing on grid\n",
    "            \n",
    "    else: #Galaxy level\n",
    "        for i in range(Ngal):\n",
    "            #Get the subsamples\n",
    "            subsample = np.delete(gal, i, axis=0)\n",
    "\n",
    "            gal_grid, xedges, yedges = np.histogram2d( subsample[:,0],subsample[:,1], Nbin)\n",
    "            delta_g = (gal_grid - np.mean(gal_grid))/np.mean(gal_grid)\n",
    "            var[i], std[i], kurtosis[i] ,x_cm[i], y_cm[i] = Statistics_field (delta_g, gal_grid, Nbin, xedges, yedges, False)#The false stands for Jacknifing on galaxies\n",
    "\n",
    "    #Estimate of the error on every parameter estimation\n",
    "    mean_param = np.zeros(5)\n",
    "    e_param = np.zeros(5)\n",
    "    bias = np.zeros(5)\n",
    "    bias_corrected_param = np.zeros(5)\n",
    "    for i,parameter in enumerate([var, std, kurtosis, x_cm, y_cm]):\n",
    "        mean_param[i] = 1/(Nsamples)*np.sum(parameter)\n",
    "        e_param[i] = ((Nsamples-1)/Nsamples *np.sum((parameter-mean_param[i])**2))**(0.5)\n",
    "        bias[i] = (Nsamples-1)*(mean_param[i]-param_wholesample[i])\n",
    "        bias_corrected_param[i] = param_wholesample[i] - bias[i]\n",
    "        \n",
    "    return bias_corrected_param, e_param, bias\n"
   ]
  },
  {
   "cell_type": "code",
   "execution_count": 10,
   "metadata": {
    "tags": []
   },
   "outputs": [
    {
     "name": "stdout",
     "output_type": "stream",
     "text": [
      "var, std, gamma2, x_cm, y_cm:\n",
      "[ 0.26045708  0.51240276  0.0071017   0.22253522 -1.38557157]\n",
      "With errors:\n",
      "[0.00856526 0.00768101 0.2413815  0.08556279 0.08827028]\n",
      "Bias:\n",
      "[ 0.05043096  0.04517059  0.17429363 -0.00065878  0.00058875]\n"
     ]
    }
   ],
   "source": [
    "#Jacknifing on galaxy level\n",
    "bias_corrected_param, e_param, bJ = JK_error(galaxies, parameters_wholesample)\n",
    "\n",
    "print('var, std, gamma2, x_cm, y_cm:')\n",
    "print(bias_corrected_param)\n",
    "print('With errors:')\n",
    "print(e_param)\n",
    "print('Bias:')\n",
    "print(bJ)\n"
   ]
  },
  {
   "cell_type": "markdown",
   "metadata": {},
   "source": [
    "If we compare with the results from 2.1\n",
    "\n",
    "Variance:\n",
    "0.3108880433170473\n",
    "\n",
    "Kurtosis (gamma2):\n",
    "0.18139532808706482\n",
    "\n",
    "Standard deviation:\n",
    "0.5575733524093913\n",
    "\n",
    "Center of mass [x,y]:\n",
    "0.2218764394667512 1.3720205924261497\n",
    "\n",
    "we find that the estimates of the parameters are similar as the case without jackknifing and most importantly they are compatible within the errors."
   ]
  },
  {
   "cell_type": "code",
   "execution_count": 11,
   "metadata": {
    "tags": []
   },
   "outputs": [
    {
     "name": "stdout",
     "output_type": "stream",
     "text": [
      "Center of mass cannot be computed on a grid\n",
      "var, std, gamma2, x_cm, y_cm:\n",
      "[ 6.21776087e-01  8.36625260e-01 -2.98861343e+00  1.86598086e+02\n",
      " -1.16477055e+03]\n",
      "With errors:\n",
      "[0.01585653 0.01425023 0.21747622 0.         0.        ]\n",
      "Bias:\n",
      "[-3.10888043e-01 -2.79051907e-01  3.17000876e+00 -1.86376209e+02\n",
      "  1.16338557e+03]\n"
     ]
    }
   ],
   "source": [
    "#Jacknifing on pixel- level\n",
    "\n",
    "bias_corrected_param_grid, e_param_grid, bJ_grid = JK_error(galaxies, parameters_wholesample, True)\n",
    "\n",
    "print('var, std, gamma2, x_cm, y_cm:')\n",
    "print(bias_corrected_param_grid)\n",
    "print('With errors:')\n",
    "print(e_param_grid)\n",
    "print('Bias:')\n",
    "print(bJ_grid)"
   ]
  },
  {
   "cell_type": "markdown",
   "metadata": {},
   "source": [
    "We find again that the results are compatible with the ones that used all pixels within the uncertainty. \n",
    "\n",
    "Since the number of different subsamples is much smaller ($30^2$ instead of $16\\times 10^4$) the error estimates are also bigger.\n",
    "\n",
    "The estimate of the center of mass could be computed by not using the flattened array by masking every pixel one by one. However, this was not done here.\n",
    "\n",
    "In general we find that the kurtosis estimate is the worst one  and the standard deviation one the best.\n",
    "\n",
    "\n",
    "### Bootstrap"
   ]
  },
  {
   "cell_type": "code",
   "execution_count": null,
   "metadata": {
    "tags": []
   },
   "outputs": [],
   "source": [
    "def Bootstrap_error (gal, param_wholesample):\n",
    "    \"\"\" Computes an estimate of the uncertainty with the bootstrap method for the parameters variance, kurtosis, std, x_cm and y_cm.\n",
    "    Input:\n",
    "        gal (np.array(2,Ngal), float): positions of the galaxies\n",
    "    Returns:\n",
    "        mean_param (np.array(Nparam), float): average value of the parameters over the different subsamples. The center of mass not computed if grid_level chosen\n",
    "        e_param: uncertainty of the parameters\n",
    "    \"\"\"\n",
    "    #Specify information\n",
    "    Ngal = np.shape(gal)[0]\n",
    "    Nsamples = 30**2 #For easy comparison with the Jackknife non grid method\n",
    "    Nbin = 29\n",
    "    \n",
    "    #Parameters we are interested in\n",
    "    var = np.zeros(Nsamples)\n",
    "    kurtosis = np.zeros(Nsamples)\n",
    "    std = np.zeros(Nsamples)\n",
    "    x_cm = np.zeros(Nsamples)\n",
    "    y_cm = np.zeros(Nsamples)\n",
    "    \n",
    "    #Compute samples and their parameter values\n",
    "    for i in range(Nsamples):\n",
    "        #Draw Ngal integers between 0 and Ngal (last not inlcuded) from a discrete unifrom distribution\n",
    "        indices = np.random.randint(low=0, high=Ngal, size=Ngal, dtype=np.int64)\n",
    "        sample = gal[indices]\n",
    "        \n",
    "        gal_grid, xedges, yedges = np.histogram2d( sample[:,0],sample[:,1], Nbin)\n",
    "        delta_g = (gal_grid - np.mean(gal_grid))/np.mean(gal_grid)\n",
    "        var[i], std[i], kurtosis[i] ,x_cm[i], y_cm[i] = Statistics_field (delta_g, gal_grid, Nbin, xedges, yedges, False)\n",
    "        \n",
    "    #Estimate of the error on every parameter estimation\n",
    "    mean_param = np.zeros(5)\n",
    "    e_param = np.zeros(5)\n",
    "    bias = np.zeros(5)\n",
    "    unbiased_param = np.zeros(5)\n",
    "    for i,parameter in enumerate([var, std, kurtosis,x_cm, y_cm]):\n",
    "        mean_param[i] = 1/(Nsamples)*np.sum(parameter)\n",
    "        e_param[i] = (1/(Nsamples-1) *np.sum((parameter-mean_param[i])**2))**(0.5)\n",
    "        bias[i] = 1/Nsamples*np.sum(parameter-param_wholesample[i])\n",
    "        unbiased_param[i] = 2*param_wholesample[i]-mean_param[i]\n",
    "        \n",
    "    return unbiased_param, e_param, bias\n"
   ]
  },
  {
   "cell_type": "code",
   "execution_count": 13,
   "metadata": {
    "tags": []
   },
   "outputs": [
    {
     "name": "stdout",
     "output_type": "stream",
     "text": [
      "var,  std, gamma2, x_cm, y_cm:\n",
      "[ 0.26048677  0.51411836 -0.02476663  0.22583915 -1.38492713]\n",
      "With errors:\n",
      "[0.00886252 0.00736943 0.25051281 0.08415862 0.09316394]\n",
      "Bias:\n",
      "[ 5.04012747e-02  4.34549912e-02  2.06161956e-01 -3.96270621e-03\n",
      " -5.56881721e-05]\n"
     ]
    }
   ],
   "source": [
    "mean_param_B, e_param_B, bB = Bootstrap_error(galaxies, parameters_wholesample)\n",
    "\n",
    "print('var,  std, gamma2, x_cm, y_cm:')\n",
    "print(mean_param_B)\n",
    "print('With errors:')\n",
    "print(e_param_B)\n",
    "print('Bias:')\n",
    "print(bB)"
   ]
  },
  {
   "cell_type": "markdown",
   "metadata": {},
   "source": [
    "Variance, std. and the center of mass from the Jackknife method on galaxy level and the bootstrap method are in very good agreement with each other. The estimator of the kurtosis has in both cases the largest uncertainty of all parameters and the values from both methods are compatible within these errors.\n",
    "\n",
    "Because the results from both methods are consistent with each other, we can say that the statistics of this problem are smooth enough for the Jackknife method to apply here, meaning that small changes in the data only cause small changes in the estimator. Since the Jackknife method is a linear approximation of the bootstrap method, we are well in that linear regime of the bootstrap method."
   ]
  }
 ],
 "metadata": {
  "kernelspec": {
   "display_name": "Python 3",
   "language": "python",
   "name": "python3"
  },
  "language_info": {
   "codemirror_mode": {
    "name": "ipython",
    "version": 3
   },
   "file_extension": ".py",
   "mimetype": "text/x-python",
   "name": "python",
   "nbconvert_exporter": "python",
   "pygments_lexer": "ipython3",
   "version": "3.7.10"
  }
 },
 "nbformat": 4,
 "nbformat_minor": 4
}
